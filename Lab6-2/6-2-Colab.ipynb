{
  "nbformat": 4,
  "nbformat_minor": 0,
  "metadata": {
    "colab": {
      "provenance": []
    },
    "kernelspec": {
      "name": "python3",
      "display_name": "Python 3"
    },
    "language_info": {
      "name": "python"
    }
  },
  "cells": [
    {
      "cell_type": "code",
      "execution_count": 1,
      "metadata": {
        "colab": {
          "base_uri": "https://localhost:8080/"
        },
        "id": "1dy7L74IClsG",
        "outputId": "1eaf3d5a-22b6-42b4-fd33-3984f48a155b"
      },
      "outputs": [
        {
          "output_type": "stream",
          "name": "stdout",
          "text": [
            "Looking in indexes: https://pypi.org/simple, https://us-python.pkg.dev/colab-wheels/public/simple/\n",
            "Collecting pyspark\n",
            "  Downloading pyspark-3.4.0.tar.gz (310.8 MB)\n",
            "\u001b[2K     \u001b[90m━━━━━━━━━━━━━━━━━━━━━━━━━━━━━━━━━━━━━━━\u001b[0m \u001b[32m310.8/310.8 MB\u001b[0m \u001b[31m3.9 MB/s\u001b[0m eta \u001b[36m0:00:00\u001b[0m\n",
            "\u001b[?25h  Preparing metadata (setup.py) ... \u001b[?25l\u001b[?25hdone\n",
            "Requirement already satisfied: py4j==0.10.9.7 in /usr/local/lib/python3.10/dist-packages (from pyspark) (0.10.9.7)\n",
            "Building wheels for collected packages: pyspark\n",
            "  Building wheel for pyspark (setup.py) ... \u001b[?25l\u001b[?25hdone\n",
            "  Created wheel for pyspark: filename=pyspark-3.4.0-py2.py3-none-any.whl size=311317130 sha256=a8ee7a6f894d3da9d08209052ad458c417da4dedd6426458721374990663b267\n",
            "  Stored in directory: /root/.cache/pip/wheels/7b/1b/4b/3363a1d04368e7ff0d408e57ff57966fcdf00583774e761327\n",
            "Successfully built pyspark\n",
            "Installing collected packages: pyspark\n",
            "Successfully installed pyspark-3.4.0\n"
          ]
        }
      ],
      "source": [
        "pip install pyspark"
      ]
    },
    {
      "cell_type": "code",
      "source": [
        "from pyspark.sql import SparkSession\n",
        "from pyspark.sql.functions import concat, col, lit\n",
        "from pyspark.sql.functions import desc\n",
        "from pyspark.sql.functions import udf\n",
        "from google.colab import drive"
      ],
      "metadata": {
        "id": "VyOvnKurCnba"
      },
      "execution_count": 2,
      "outputs": []
    },
    {
      "cell_type": "code",
      "source": [
        "spark=SparkSession.builder.appName('data_processing').getOrCreate()"
      ],
      "metadata": {
        "id": "zIczSINBC3uU"
      },
      "execution_count": 3,
      "outputs": []
    },
    {
      "cell_type": "code",
      "source": [
        "drive.mount('/content/drive')"
      ],
      "metadata": {
        "colab": {
          "base_uri": "https://localhost:8080/"
        },
        "id": "3SJB7wi8C8zm",
        "outputId": "50712736-1dd7-4a1d-bdce-b884bfdaba60"
      },
      "execution_count": 4,
      "outputs": [
        {
          "output_type": "stream",
          "name": "stdout",
          "text": [
            "Mounted at /content/drive\n"
          ]
        }
      ]
    },
    {
      "cell_type": "code",
      "source": [
        "df=spark.read.csv('/content/drive/My Drive/Covid19/Casos_positivos_de_COVID-19_en_Colombia-100K.csv',inferSchema=True,header=True)"
      ],
      "metadata": {
        "id": "mm6VH5u6DOjB"
      },
      "execution_count": 5,
      "outputs": []
    },
    {
      "cell_type": "code",
      "source": [
        "df.columns"
      ],
      "metadata": {
        "colab": {
          "base_uri": "https://localhost:8080/"
        },
        "id": "vFHlb--oDZfE",
        "outputId": "a456f05b-aaa5-4a41-fc3f-30cd5b84ed1a"
      },
      "execution_count": 6,
      "outputs": [
        {
          "output_type": "execute_result",
          "data": {
            "text/plain": [
              "['fecha reporte web',\n",
              " 'ID de caso',\n",
              " 'Fecha de notificación',\n",
              " 'Código DIVIPOLA departamento',\n",
              " 'Nombre departamento',\n",
              " 'Código DIVIPOLA municipio',\n",
              " 'Nombre municipio',\n",
              " 'Edad',\n",
              " 'Unidad de medida de edad',\n",
              " 'Sexo',\n",
              " 'Tipo de contagio',\n",
              " 'Ubicación del caso',\n",
              " 'Estado',\n",
              " 'Código ISO del país',\n",
              " 'Nombre del país',\n",
              " 'Recuperado',\n",
              " 'Fecha de inicio de síntomas',\n",
              " 'Fecha de muerte',\n",
              " 'Fecha de diagnóstico',\n",
              " 'Fecha de recuperación',\n",
              " 'Tipo de recuperación',\n",
              " 'Pertenencia étnica',\n",
              " 'Nombre del grupo étnico']"
            ]
          },
          "metadata": {},
          "execution_count": 6
        }
      ]
    },
    {
      "cell_type": "code",
      "source": [
        "df.printSchema()"
      ],
      "metadata": {
        "colab": {
          "base_uri": "https://localhost:8080/"
        },
        "id": "knp-_zR_Dk2u",
        "outputId": "1eaefb36-463a-4dea-db73-1266d93c1534"
      },
      "execution_count": 7,
      "outputs": [
        {
          "output_type": "stream",
          "name": "stdout",
          "text": [
            "root\n",
            " |-- fecha reporte web: string (nullable = true)\n",
            " |-- ID de caso: integer (nullable = true)\n",
            " |-- Fecha de notificación: string (nullable = true)\n",
            " |-- Código DIVIPOLA departamento: integer (nullable = true)\n",
            " |-- Nombre departamento: string (nullable = true)\n",
            " |-- Código DIVIPOLA municipio: integer (nullable = true)\n",
            " |-- Nombre municipio: string (nullable = true)\n",
            " |-- Edad: integer (nullable = true)\n",
            " |-- Unidad de medida de edad: integer (nullable = true)\n",
            " |-- Sexo: string (nullable = true)\n",
            " |-- Tipo de contagio: string (nullable = true)\n",
            " |-- Ubicación del caso: string (nullable = true)\n",
            " |-- Estado: string (nullable = true)\n",
            " |-- Código ISO del país: integer (nullable = true)\n",
            " |-- Nombre del país: string (nullable = true)\n",
            " |-- Recuperado: string (nullable = true)\n",
            " |-- Fecha de inicio de síntomas: string (nullable = true)\n",
            " |-- Fecha de muerte: string (nullable = true)\n",
            " |-- Fecha de diagnóstico: string (nullable = true)\n",
            " |-- Fecha de recuperación: string (nullable = true)\n",
            " |-- Tipo de recuperación: string (nullable = true)\n",
            " |-- Pertenencia étnica: integer (nullable = true)\n",
            " |-- Nombre del grupo étnico: string (nullable = true)\n",
            "\n"
          ]
        }
      ]
    },
    {
      "cell_type": "code",
      "source": [
        "df.select('Nombre municipio','sexo','Edad').show(15)"
      ],
      "metadata": {
        "colab": {
          "base_uri": "https://localhost:8080/"
        },
        "id": "2zj8jQpHDwM6",
        "outputId": "0fcb69a0-ed1d-4744-e0a4-b46bdd12ce05"
      },
      "execution_count": 8,
      "outputs": [
        {
          "output_type": "stream",
          "name": "stdout",
          "text": [
            "+----------------+----+----+\n",
            "|Nombre municipio|sexo|Edad|\n",
            "+----------------+----+----+\n",
            "|          BOGOTA|   F|  19|\n",
            "|            BUGA|   M|  34|\n",
            "|        MEDELLIN|   F|  50|\n",
            "|        MEDELLIN|   M|  55|\n",
            "|        MEDELLIN|   M|  25|\n",
            "|          ITAGUI|   F|  27|\n",
            "|       CARTAGENA|   F|  85|\n",
            "|          BOGOTA|   F|  22|\n",
            "|          BOGOTA|   F|  28|\n",
            "|          BOGOTA|   F|  36|\n",
            "|          BOGOTA|   F|  42|\n",
            "|           NEIVA|   F|  74|\n",
            "|           NEIVA|   F|  68|\n",
            "|         PALMIRA|   M|  48|\n",
            "|   VILLAVICENCIO|   F|  30|\n",
            "+----------------+----+----+\n",
            "only showing top 15 rows\n",
            "\n"
          ]
        }
      ]
    },
    {
      "cell_type": "code",
      "source": [
        "df =df.withColumnRenamed(\"fecha reporte web\", \"fecha_reporte_web\")\n",
        "df =df.withColumnRenamed(\"ID de caso\", \"id_caso\")\n",
        "df =df.withColumnRenamed(\"Fecha de notificación\", \"fecha_notificacion\")\n",
        "df =df.withColumnRenamed(\"Código DIVIPOLA departamento\", \"codigo_departamento\")\n",
        "df =df.withColumnRenamed(\"Nombre departamento\", \"departamento\")\n",
        "df =df.withColumnRenamed(\"Código DIVIPOLA municipio\", \"codigo_municipio\")\n",
        "df =df.withColumnRenamed(\"Nombre municipio\", \"municipio\")\n",
        "df =df.withColumnRenamed(\"Edad\", \"edad\")\n",
        "df =df.withColumnRenamed(\"Sexo\", \"sexo\")\n",
        "df =df.withColumnRenamed(\"Tipo de contagio\", \"tipo_contagio\")\n",
        "df =df.withColumnRenamed(\"Ubicación del caso\", \"ubicacion_caso\")\n",
        "df =df.withColumnRenamed(\"Estado\", \"estado\")\n",
        "df =df.withColumnRenamed(\"Código ISO del país\", \"codigo_pais\")\n",
        "df =df.withColumnRenamed(\"Nombre del país\", \"nombre_pais\")\n",
        "df =df.withColumnRenamed(\"Recuperado\", \"recuperado\")\n",
        "df =df.withColumnRenamed(\"Fecha de inicio de síntomas\", \"fecha_inicio_sintomas\")\n",
        "df =df.withColumnRenamed(\"Fecha de muerte\", \"fecha_muerte\")\n",
        "df =df.withColumnRenamed(\"Fecha de diagnóstico\", \"fecha_diagnostico\")\n",
        "df =df.withColumnRenamed(\"Fecha de recuperación\", \"fecha_recuperacion\")\n",
        "df =df.withColumnRenamed(\"Tipo de recuperación\", \"tipo_recuperacion\")\n",
        "df =df.withColumnRenamed(\"Pertenencia étnica\", \"pertenencia_etnica\")\n",
        "df =df.withColumnRenamed(\"Nombre del grupo étnico\", \"nombre_etnia\")"
      ],
      "metadata": {
        "id": "P7v78TetD_B1"
      },
      "execution_count": 9,
      "outputs": []
    },
    {
      "cell_type": "code",
      "source": [
        "df = df.withColumn(\"datos_basicos\", concat(col(\"id_caso\"), lit(\", \"), col(\"edad\"), lit(\", \"), col(\"sexo\")))\n",
        "df.select(\"datos_basicos\").show(3)"
      ],
      "metadata": {
        "colab": {
          "base_uri": "https://localhost:8080/"
        },
        "id": "yOJ0lFpREExx",
        "outputId": "8b0047d1-2cc4-4902-f2a1-d6bc0571038a"
      },
      "execution_count": 10,
      "outputs": [
        {
          "output_type": "stream",
          "name": "stdout",
          "text": [
            "+-------------+\n",
            "|datos_basicos|\n",
            "+-------------+\n",
            "|     1, 19, F|\n",
            "|     2, 34, M|\n",
            "|     3, 50, F|\n",
            "+-------------+\n",
            "only showing top 3 rows\n",
            "\n"
          ]
        }
      ]
    },
    {
      "cell_type": "code",
      "source": [
        "df = df.drop(\"codigo_departamento\",\"codigo_municipio\")\n",
        "df.columns"
      ],
      "metadata": {
        "colab": {
          "base_uri": "https://localhost:8080/"
        },
        "id": "fmrQ9_yyEKnc",
        "outputId": "ee81e76a-4b75-4a0c-d6e9-fbb7998dd3e4"
      },
      "execution_count": 11,
      "outputs": [
        {
          "output_type": "execute_result",
          "data": {
            "text/plain": [
              "['fecha_reporte_web',\n",
              " 'id_caso',\n",
              " 'fecha_notificacion',\n",
              " 'departamento',\n",
              " 'municipio',\n",
              " 'edad',\n",
              " 'Unidad de medida de edad',\n",
              " 'sexo',\n",
              " 'tipo_contagio',\n",
              " 'ubicacion_caso',\n",
              " 'estado',\n",
              " 'codigo_pais',\n",
              " 'nombre_pais',\n",
              " 'recuperado',\n",
              " 'fecha_inicio_sintomas',\n",
              " 'fecha_muerte',\n",
              " 'fecha_diagnostico',\n",
              " 'fecha_recuperacion',\n",
              " 'tipo_recuperacion',\n",
              " 'pertenencia_etnica',\n",
              " 'nombre_etnia',\n",
              " 'datos_basicos']"
            ]
          },
          "metadata": {},
          "execution_count": 11
        }
      ]
    },
    {
      "cell_type": "code",
      "source": [
        "df.select(\"id_caso\", \"sexo\",\"fecha_inicio_sintomas\",\"fecha_diagnostico\").filter(df[\"sexo\"] == \"M\").show(5)"
      ],
      "metadata": {
        "colab": {
          "base_uri": "https://localhost:8080/"
        },
        "id": "FKvpy5dlENy8",
        "outputId": "3833b474-cc13-44a9-f884-6be26d5ab594"
      },
      "execution_count": 12,
      "outputs": [
        {
          "output_type": "stream",
          "name": "stdout",
          "text": [
            "+-------+----+---------------------+-----------------+\n",
            "|id_caso|sexo|fecha_inicio_sintomas|fecha_diagnostico|\n",
            "+-------+----+---------------------+-----------------+\n",
            "|      2|   M|     4/3/2020 0:00:00| 9/3/2020 0:00:00|\n",
            "|      4|   M|     6/3/2020 0:00:00|11/3/2020 0:00:00|\n",
            "|      5|   M|     8/3/2020 0:00:00|11/3/2020 0:00:00|\n",
            "|     14|   M|     7/3/2020 0:00:00|13/3/2020 0:00:00|\n",
            "|     18|   M|     7/3/2020 0:00:00|14/3/2020 0:00:00|\n",
            "+-------+----+---------------------+-----------------+\n",
            "only showing top 5 rows\n",
            "\n"
          ]
        }
      ]
    },
    {
      "cell_type": "code",
      "source": [
        "lambda_function = udf(lambda column_value: \"sexo: \" + column_value)\n",
        "df = df.withColumn(\"tag\", lambda_function(df[\"sexo\"]))\n",
        "df.select('sexo','tag').show(5)"
      ],
      "metadata": {
        "colab": {
          "base_uri": "https://localhost:8080/"
        },
        "id": "TORmvDzjEXid",
        "outputId": "51f88d91-7277-49f4-df18-c1c3c27b1428"
      },
      "execution_count": 13,
      "outputs": [
        {
          "output_type": "stream",
          "name": "stdout",
          "text": [
            "+----+-------+\n",
            "|sexo|    tag|\n",
            "+----+-------+\n",
            "|   F|sexo: F|\n",
            "|   M|sexo: M|\n",
            "|   F|sexo: F|\n",
            "|   M|sexo: M|\n",
            "|   M|sexo: M|\n",
            "+----+-------+\n",
            "only showing top 5 rows\n",
            "\n"
          ]
        }
      ]
    },
    {
      "cell_type": "code",
      "source": [
        "departamentos = df.groupBy(\"departamento\").count().orderBy(desc(\"count\")).limit(10)\n",
        "departamentos.show()"
      ],
      "metadata": {
        "colab": {
          "base_uri": "https://localhost:8080/"
        },
        "id": "WcUBYOW9Egkx",
        "outputId": "46db8f78-1020-486d-f6e4-4247f6c7c42c"
      },
      "execution_count": 14,
      "outputs": [
        {
          "output_type": "stream",
          "name": "stdout",
          "text": [
            "+------------+-----+\n",
            "|departamento|count|\n",
            "+------------+-----+\n",
            "|      BOGOTA|30016|\n",
            "|BARRANQUILLA|13065|\n",
            "|   ATLANTICO|10994|\n",
            "|       VALLE|10404|\n",
            "|   CARTAGENA| 8333|\n",
            "|   ANTIOQUIA| 4554|\n",
            "|      NARIÑO| 3520|\n",
            "|CUNDINAMARCA| 2827|\n",
            "|    AMAZONAS| 2317|\n",
            "|       CHOCO| 1636|\n",
            "+------------+-----+\n",
            "\n"
          ]
        }
      ]
    },
    {
      "cell_type": "code",
      "source": [
        "df.createOrReplaceTempView(\"data\")\n",
        "departamentos = spark.sql(\"SELECT departamento, COUNT(*) AS casos FROM data GROUP BY departamento ORDER BY casos DESC LIMIT 10\")\n",
        "departamentos.show()"
      ],
      "metadata": {
        "colab": {
          "base_uri": "https://localhost:8080/"
        },
        "id": "8JmSEeg0Em8F",
        "outputId": "3263e4c8-6159-4289-932c-abe35e0165d3"
      },
      "execution_count": 15,
      "outputs": [
        {
          "output_type": "stream",
          "name": "stdout",
          "text": [
            "+------------+-----+\n",
            "|departamento|casos|\n",
            "+------------+-----+\n",
            "|      BOGOTA|30016|\n",
            "|BARRANQUILLA|13065|\n",
            "|   ATLANTICO|10994|\n",
            "|       VALLE|10404|\n",
            "|   CARTAGENA| 8333|\n",
            "|   ANTIOQUIA| 4554|\n",
            "|      NARIÑO| 3520|\n",
            "|CUNDINAMARCA| 2827|\n",
            "|    AMAZONAS| 2317|\n",
            "|       CHOCO| 1636|\n",
            "+------------+-----+\n",
            "\n"
          ]
        }
      ]
    },
    {
      "cell_type": "code",
      "source": [
        "municipios = df.groupBy(\"municipio\").count().orderBy(desc(\"count\")).limit(10)\n",
        "municipios.show()"
      ],
      "metadata": {
        "colab": {
          "base_uri": "https://localhost:8080/"
        },
        "id": "IMD3wssLErMS",
        "outputId": "45bae650-2d83-4079-c42a-500d0fe11960"
      },
      "execution_count": 16,
      "outputs": [
        {
          "output_type": "stream",
          "name": "stdout",
          "text": [
            "+------------+-----+\n",
            "|   municipio|count|\n",
            "+------------+-----+\n",
            "|      BOGOTA|30016|\n",
            "|BARRANQUILLA|13065|\n",
            "|   CARTAGENA| 8333|\n",
            "|        CALI| 7747|\n",
            "|     SOLEDAD| 6233|\n",
            "|     LETICIA| 2194|\n",
            "|    MEDELLIN| 2137|\n",
            "|      TUMACO| 1501|\n",
            "|BUENAVENTURA| 1453|\n",
            "|      QUIBDO| 1367|\n",
            "+------------+-----+\n",
            "\n"
          ]
        }
      ]
    },
    {
      "cell_type": "code",
      "source": [
        "municipios = spark.sql(\"SELECT municipio, COUNT(*) AS casos FROM data GROUP BY municipio ORDER BY casos DESC LIMIT 10\")\n",
        "municipios.show()"
      ],
      "metadata": {
        "colab": {
          "base_uri": "https://localhost:8080/"
        },
        "id": "_cu6WsFNE0rG",
        "outputId": "41ef7137-da39-42a6-fff9-73a89282285d"
      },
      "execution_count": 17,
      "outputs": [
        {
          "output_type": "stream",
          "name": "stdout",
          "text": [
            "+------------+-----+\n",
            "|   municipio|casos|\n",
            "+------------+-----+\n",
            "|      BOGOTA|30016|\n",
            "|BARRANQUILLA|13065|\n",
            "|   CARTAGENA| 8333|\n",
            "|        CALI| 7747|\n",
            "|     SOLEDAD| 6233|\n",
            "|     LETICIA| 2194|\n",
            "|    MEDELLIN| 2137|\n",
            "|      TUMACO| 1501|\n",
            "|BUENAVENTURA| 1453|\n",
            "|      QUIBDO| 1367|\n",
            "+------------+-----+\n",
            "\n"
          ]
        }
      ]
    },
    {
      "cell_type": "code",
      "source": [
        "dias = df.groupBy(\"fecha_reporte_web\").count().orderBy(desc(\"count\")).limit(10)\n",
        "dias.show()"
      ],
      "metadata": {
        "colab": {
          "base_uri": "https://localhost:8080/"
        },
        "id": "rGwDgMsgFCmA",
        "outputId": "fc0818cf-b84d-4344-e865-f0ccc73bc4c5"
      },
      "execution_count": 18,
      "outputs": [
        {
          "output_type": "stream",
          "name": "stdout",
          "text": [
            "+-----------------+-----+\n",
            "|fecha_reporte_web|count|\n",
            "+-----------------+-----+\n",
            "|27/6/2020 0:00:00| 4149|\n",
            "|26/6/2020 0:00:00| 3843|\n",
            "|24/6/2020 0:00:00| 3541|\n",
            "|25/6/2020 0:00:00| 3486|\n",
            "|29/6/2020 0:00:00| 3274|\n",
            "|28/6/2020 0:00:00| 3178|\n",
            "|18/6/2020 0:00:00| 3171|\n",
            "|19/6/2020 0:00:00| 3059|\n",
            "|21/6/2020 0:00:00| 3019|\n",
            "|30/6/2020 0:00:00| 2803|\n",
            "+-----------------+-----+\n",
            "\n"
          ]
        }
      ]
    },
    {
      "cell_type": "code",
      "source": [
        "dias = spark.sql(\"SELECT fecha_reporte_web as Fecha, COUNT(*) AS Casos FROM data GROUP BY fecha_reporte_web ORDER BY casos DESC LIMIT 10\")\n",
        "dias.show()"
      ],
      "metadata": {
        "colab": {
          "base_uri": "https://localhost:8080/"
        },
        "id": "hWwbCG6yFFqC",
        "outputId": "808dadba-18bb-4f9a-db16-e27d02242449"
      },
      "execution_count": 19,
      "outputs": [
        {
          "output_type": "stream",
          "name": "stdout",
          "text": [
            "+-----------------+-----+\n",
            "|            Fecha|Casos|\n",
            "+-----------------+-----+\n",
            "|27/6/2020 0:00:00| 4149|\n",
            "|26/6/2020 0:00:00| 3843|\n",
            "|24/6/2020 0:00:00| 3541|\n",
            "|25/6/2020 0:00:00| 3486|\n",
            "|29/6/2020 0:00:00| 3274|\n",
            "|28/6/2020 0:00:00| 3178|\n",
            "|18/6/2020 0:00:00| 3171|\n",
            "|19/6/2020 0:00:00| 3059|\n",
            "|21/6/2020 0:00:00| 3019|\n",
            "|30/6/2020 0:00:00| 2803|\n",
            "+-----------------+-----+\n",
            "\n"
          ]
        }
      ]
    },
    {
      "cell_type": "code",
      "source": [
        "edad = df.groupBy(\"edad\").count().orderBy(desc(\"count\")).limit(10)\n",
        "edad.show()"
      ],
      "metadata": {
        "colab": {
          "base_uri": "https://localhost:8080/"
        },
        "id": "ff1DcwV-FHuI",
        "outputId": "2ccf35fe-9e15-46b6-8044-a192eb5e51e7"
      },
      "execution_count": 20,
      "outputs": [
        {
          "output_type": "stream",
          "name": "stdout",
          "text": [
            "+----+-----+\n",
            "|edad|count|\n",
            "+----+-----+\n",
            "|  30| 2735|\n",
            "|  29| 2611|\n",
            "|  31| 2569|\n",
            "|  28| 2540|\n",
            "|  27| 2494|\n",
            "|  26| 2436|\n",
            "|  33| 2371|\n",
            "|  32| 2362|\n",
            "|  25| 2335|\n",
            "|  34| 2310|\n",
            "+----+-----+\n",
            "\n"
          ]
        }
      ]
    },
    {
      "cell_type": "code",
      "source": [
        "edad = spark.sql(\"SELECT edad, COUNT(*) AS casos FROM data GROUP BY edad ORDER BY casos DESC LIMIT 10\")\n",
        "edad.show()"
      ],
      "metadata": {
        "colab": {
          "base_uri": "https://localhost:8080/"
        },
        "id": "lq0rlA2yFKIZ",
        "outputId": "f35d037b-f5de-466b-8ce5-718932306bed"
      },
      "execution_count": 21,
      "outputs": [
        {
          "output_type": "stream",
          "name": "stdout",
          "text": [
            "+----+-----+\n",
            "|edad|casos|\n",
            "+----+-----+\n",
            "|  30| 2735|\n",
            "|  29| 2611|\n",
            "|  31| 2569|\n",
            "|  28| 2540|\n",
            "|  27| 2494|\n",
            "|  26| 2436|\n",
            "|  33| 2371|\n",
            "|  32| 2362|\n",
            "|  25| 2335|\n",
            "|  34| 2310|\n",
            "+----+-----+\n",
            "\n"
          ]
        }
      ]
    },
    {
      "cell_type": "code",
      "source": [
        "etnia = df.groupBy(\"nombre_etnia\").count().orderBy(desc(\"count\")).limit(10)\n",
        "etnia.show()"
      ],
      "metadata": {
        "colab": {
          "base_uri": "https://localhost:8080/"
        },
        "id": "FSn-F-W7FME3",
        "outputId": "90f34667-f92e-4d22-fe96-ee94adcd899a"
      },
      "execution_count": 22,
      "outputs": [
        {
          "output_type": "stream",
          "name": "stdout",
          "text": [
            "+------------+-----+\n",
            "|nombre_etnia|count|\n",
            "+------------+-----+\n",
            "|        null|94342|\n",
            "| Por definir| 3603|\n",
            "|      MOKANA|  373|\n",
            "|      TIKUNA|  357|\n",
            "|        ZENU|  273|\n",
            "|       PASTO|  218|\n",
            "|       PIJAO|  116|\n",
            "|MURUI_UITOTO|   96|\n",
            "|   NASA_PAÉZ|   82|\n",
            "|       WAYUU|   62|\n",
            "+------------+-----+\n",
            "\n"
          ]
        }
      ]
    },
    {
      "cell_type": "code",
      "source": [
        "etnia = spark.sql(\"SELECT nombre_etnia as Etnia, COUNT(*) AS casos FROM data GROUP BY nombre_etnia ORDER BY casos DESC LIMIT 10\")\n",
        "etnia.show()"
      ],
      "metadata": {
        "colab": {
          "base_uri": "https://localhost:8080/"
        },
        "id": "qq2Bo5bgFO7l",
        "outputId": "7bb388ba-88f6-4c4f-9c34-9aefcb9d7407"
      },
      "execution_count": 24,
      "outputs": [
        {
          "output_type": "stream",
          "name": "stdout",
          "text": [
            "+------------+-----+\n",
            "|       Etnia|casos|\n",
            "+------------+-----+\n",
            "|        null|94342|\n",
            "| Por definir| 3603|\n",
            "|      MOKANA|  373|\n",
            "|      TIKUNA|  357|\n",
            "|        ZENU|  273|\n",
            "|       PASTO|  218|\n",
            "|       PIJAO|  116|\n",
            "|MURUI_UITOTO|   96|\n",
            "|   NASA_PAÉZ|   82|\n",
            "|       WAYUU|   62|\n",
            "+------------+-----+\n",
            "\n"
          ]
        }
      ]
    },
    {
      "cell_type": "code",
      "source": [
        "departamentos.write.csv(\"/content/drive/My Drive/Covid19/Resultados/departamentos.csv\")\n",
        "municipios.write.csv(\"/content/drive/My Drive/Covid19/Resultados/municipios.csv\")\n",
        "dias.write.csv(\"/content/drive/My Drive/Covid19/Resultados/dias.csv\")\n",
        "edad.write.csv(\"/content/drive/My Drive/Covid19/Resultados/edad.csv\")\n",
        "etnia.write.csv(\"/content/drive/My Drive/Covid19/Resultados/etnia.csv\")"
      ],
      "metadata": {
        "id": "2Nys-lTqFQzl"
      },
      "execution_count": 29,
      "outputs": []
    },
    {
      "cell_type": "code",
      "source": [],
      "metadata": {
        "id": "otgKqhuYFacO"
      },
      "execution_count": null,
      "outputs": []
    }
  ]
}